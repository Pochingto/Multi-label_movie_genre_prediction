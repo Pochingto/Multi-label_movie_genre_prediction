{
  "nbformat": 4,
  "nbformat_minor": 0,
  "metadata": {
    "colab": {
      "name": "pa2_part1.ipynb",
      "provenance": [],
      "collapsed_sections": [],
      "toc_visible": true
    },
    "kernelspec": {
      "name": "python3",
      "display_name": "Python 3"
    }
  },
  "cells": [
    {
      "cell_type": "code",
      "metadata": {
        "id": "L_GDwDMB2_WC",
        "colab_type": "code",
        "colab": {}
      },
      "source": [
        "import torch\n",
        "import torchvision\n",
        "import torchvision.transforms as transforms\n",
        "import matplotlib.pyplot as plt\n",
        "from torchsummary import summary\n",
        "\n",
        "from PIL import Image\n",
        "import os\n",
        "import re\n",
        "\n",
        "import torchvision.transforms.functional as TF\n",
        "\n",
        "import pandas as pd"
      ],
      "execution_count": 0,
      "outputs": []
    },
    {
      "cell_type": "code",
      "metadata": {
        "id": "dg38br5M4M10",
        "colab_type": "code",
        "colab": {}
      },
      "source": [
        "transform = transforms.Compose(\n",
        "    [transforms.Resize(100),\n",
        "     transforms.RandomHorizontalFlip(p=0.5), # data augmentation by fliping \n",
        "     transforms.ToTensor(),    # range [0, 255] -> [0.0,1.0]\n",
        "     transforms.Normalize((0.5, 0.5, 0.5), (0.5, 0.5, 0.5))])   # channel=（channel-mean）/std  -> [-1, 1]\n",
        "\n",
        "\n",
        "# if the image has only one channel (grayscale), normalise operation will be \n",
        "# transforms.Normalize((0.5, ), (0.5, ))"
      ],
      "execution_count": 0,
      "outputs": []
    },
    {
      "cell_type": "code",
      "metadata": {
        "id": "RLmaGdXy4P8n",
        "colab_type": "code",
        "colab": {}
      },
      "source": [
        "def load_images_from_folder(folder):\n",
        "    images = []\n",
        "    \n",
        "    for filename in os.listdir(folder):\n",
        "        \n",
        "        if re.match(r'.*jpg$', filename):\n",
        "            if re.match(r'^re_', filename):\n",
        "                print(filename)\n",
        "                continue\n",
        "            \n",
        "            if re.match(r'^re_', filename):\n",
        "                print(filename)\n",
        "                \n",
        "            img = Image.open(os.path.join(folder,filename)).convert('RGB')\n",
        "            #print(filename)\n",
        "            images.append((filename.split('.')[0], transform(img)))\n",
        "            img.close()\n",
        "        \n",
        "    return images"
      ],
      "execution_count": 0,
      "outputs": []
    },
    {
      "cell_type": "code",
      "metadata": {
        "id": "H6oYFgAV4RYt",
        "colab_type": "code",
        "colab": {}
      },
      "source": [
        "import numpy as np\n",
        "\n",
        "def imshow(img):\n",
        "    img = img / 2 + 0.5     # unnormalize\n",
        "    npimg = img.numpy()\n",
        "    plt.imshow(np.transpose(npimg, (1, 2, 0)))\n",
        "    plt.show()"
      ],
      "execution_count": 0,
      "outputs": []
    },
    {
      "cell_type": "code",
      "metadata": {
        "id": "Z2vah9OG5OYk",
        "colab_type": "code",
        "colab": {}
      },
      "source": [
        "import os\n",
        "import torch\n",
        "import pandas as pd\n",
        "import numpy as np\n",
        "from torch.utils.data import Dataset, DataLoader\n",
        "from sklearn.preprocessing import LabelEncoder"
      ],
      "execution_count": 0,
      "outputs": []
    },
    {
      "cell_type": "code",
      "metadata": {
        "id": "qQG-xaygEPIG",
        "colab_type": "code",
        "colab": {}
      },
      "source": [
        "import zipfile\n",
        "zip_ref = zipfile.ZipFile(\"./drive/My Drive/images.zip\", \"r\")\n",
        "zip_ref.extractall()\n",
        "zip_ref.close()"
      ],
      "execution_count": 0,
      "outputs": []
    },
    {
      "cell_type": "markdown",
      "metadata": {
        "id": "ZA5ao5Um5UFs",
        "colab_type": "text"
      },
      "source": [
        "# Define Dataset"
      ]
    },
    {
      "cell_type": "code",
      "metadata": {
        "id": "sU4vU-FVI9jM",
        "colab_type": "code",
        "colab": {}
      },
      "source": [
        "import os\n",
        "import torch\n",
        "import re\n",
        "import pandas as pd\n",
        "import numpy as np\n",
        "from torch.utils.data import Dataset, DataLoader\n",
        "from sklearn.preprocessing import LabelEncoder"
      ],
      "execution_count": 0,
      "outputs": []
    },
    {
      "cell_type": "code",
      "metadata": {
        "id": "ADP8lstL5Odc",
        "colab_type": "code",
        "colab": {}
      },
      "source": [
        "class imageDataset(Dataset):\n",
        "\n",
        "    def __init__(self, folder, df, transform):\n",
        "\n",
        "        #self.images = images\n",
        "        #self.tensor_df = pd.DataFrame(images, columns=['imdbId', 'tensor'])\n",
        "        #self.tensor_df['imdbId'] = self.tensor_df['imdbId'].astype(int)\n",
        "\n",
        "        self.df_raw = pd.read_csv(df)\n",
        "        self.folder = folder\n",
        "        self.transform = transform\n",
        "\n",
        "        #self.df = pd.merge(self.tensor_df, self.df_raw, on='imdbId', how='inner')\n",
        "\n",
        "    def __getitem__(self, idx):\n",
        "\n",
        "        #X = self.df.loc[idx, \"tensor\"]\n",
        "        #y = self.df.iloc[idx, 2:].values.astype(int)\n",
        "        imdbId = self.df_raw.loc[idx, 'imdbId']\n",
        "        y = self.df_raw.iloc[idx, 1:].values.astype(int)\n",
        "        filename = str(imdbId) + '.jpg'\n",
        "        image = Image.open(os.path.join(self.folder,filename), 'r').convert('RGB')\n",
        "\n",
        "        X = self.transform(image)\n",
        "\n",
        "        image.close()\n",
        "\n",
        "        return X, y\n",
        "\n",
        "    def __len__(self):\n",
        "        return len(self.df_raw)"
      ],
      "execution_count": 0,
      "outputs": []
    },
    {
      "cell_type": "code",
      "metadata": {
        "id": "g3YbZkG75Ogk",
        "colab_type": "code",
        "colab": {}
      },
      "source": [
        "train = imageDataset('images' , \n",
        "                     './drive/My Drive/pa2_data/part1_data/train.csv', \n",
        "                     transform)"
      ],
      "execution_count": 0,
      "outputs": []
    },
    {
      "cell_type": "code",
      "metadata": {
        "id": "-UByKhav92m9",
        "colab_type": "code",
        "colab": {}
      },
      "source": [
        "test = imageDataset('images', \n",
        "                    './drive/My Drive/pa2_data/part1_data/test.csv', \n",
        "                    transform)"
      ],
      "execution_count": 0,
      "outputs": []
    },
    {
      "cell_type": "code",
      "metadata": {
        "id": "Dr_eKpjn8HFh",
        "colab_type": "code",
        "colab": {}
      },
      "source": [
        "def save_checkpoint(save_path, model, optimizer, val_loss):\n",
        "    if save_path==None:\n",
        "        return\n",
        "    save_path = save_path \n",
        "    state_dict = {'model_state_dict': model.state_dict(),\n",
        "                  'optimizer_state_dict': optimizer.state_dict(),\n",
        "                  'val_loss': val_loss}\n",
        "\n",
        "    torch.save(state_dict, save_path)\n",
        "\n",
        "    print(f'Model saved to ==> {save_path}')\n",
        "\n",
        "def load_checkpoint(save_path, model, optimizer):\n",
        "    state_dict = torch.load(save_path)\n",
        "    model.load_state_dict(state_dict['model_state_dict'])\n",
        "    optimizer.load_state_dict(state_dict['optimizer_state_dict'])\n",
        "    val_loss = state_dict['val_loss']\n",
        "    print(f'Model loaded from <== {save_path}')\n",
        "    \n",
        "    return val_loss\n",
        "\n",
        "def predict_label(outputs, threshold):\n",
        "    predict = outputs.clone()\n",
        "    for row in predict:\n",
        "        for i in range(len(row)):\n",
        "            if row[i] >= threshold:\n",
        "                row[i] = 1\n",
        "            else:\n",
        "                row[i] = 0\n",
        "                \n",
        "    return predict\n",
        "\n",
        "def multiclass_accuracy(pred, label):\n",
        "    \n",
        "    return float(torch.sum(pred == label)) / float((pred.shape[0] * pred.shape[1]))\n",
        "\n",
        "\n",
        "\n",
        "def TRAIN(net, train_loader, valid_loader,  num_epochs, eval_every, total_step, criterion, \n",
        "          optimizer, val_loss, device, save_name):\n",
        "    train_loss = []\n",
        "    valid_loss = []\n",
        "  \n",
        "    net = net.to(device)\n",
        "    \n",
        "    running_loss = 0.0\n",
        "    running_corrects = 0\n",
        "    running_num = 0\n",
        "    global_step = 0\n",
        "    if val_loss==None:\n",
        "        best_val_loss = float(\"Inf\")  \n",
        "    else: \n",
        "        best_val_loss=val_loss\n",
        "    \n",
        "\n",
        "    for epoch in range(num_epochs):  # loop over the dataset multiple times\n",
        "\n",
        "        for i, (inputs, labels) in enumerate(train_loader):\n",
        "            net.train() # tell the net the training is started\n",
        "            inputs = inputs.to(device)\n",
        "            labels = labels.to(device)\n",
        "\n",
        "            '''Training of the model'''\n",
        "            # Forward pass\n",
        "            outputs = net(inputs)\n",
        "            #print(outputs.data)\n",
        "            #print(labels.data)\n",
        "            \n",
        "            #pred = torch.\n",
        "            #print(outputs.data)\n",
        "            pred = predict_label(outputs.data, 0.5)\n",
        "            #print(pred)\n",
        "\n",
        "            #print(torch.sum(pred.data == labels.data))\n",
        "            #print(outputs)\n",
        "            # print(\"-------------------------------------------------\")\n",
        "            #_, preds = torch.max(outputs.data, 1) this is originally to output the maximum probability indice\n",
        "            #print(torch.max(outputs.data, 1)) \n",
        "            #print(preds)\n",
        "            #print(outputs.data)\n",
        "            labels = labels.type_as(outputs)\n",
        "            loss = criterion(outputs, labels)\n",
        "\n",
        "            # Backward and optimize\n",
        "            optimizer.zero_grad()\n",
        "            loss.backward()\n",
        "            optimizer.step()\n",
        "            global_step += 1\n",
        "\n",
        "            running_loss += loss.item()\n",
        "            running_corrects += torch.sum(pred == labels)\n",
        "            running_num += (labels.shape[0] * labels.shape[1])\n",
        "\n",
        "            '''Evaluating the model every x steps'''\n",
        "            if global_step % eval_every == 0:\n",
        "                with torch.no_grad():\n",
        "                    net.eval()\n",
        "                    val_running_loss = 0.0\n",
        "                    val_running_corrects = 0\n",
        "                    for val_inputs, val_labels in valid_loader:\n",
        "                        val_inputs = val_inputs.to(device)\n",
        "                        val_labels = val_labels.to(device)\n",
        "\n",
        "                        val_outputs = net(val_inputs)\n",
        "                        val_labels = val_labels.type_as(val_outputs)\n",
        "                        val_loss = criterion(val_outputs, val_labels)\n",
        "\n",
        "                        #_, preds = torch.max(val_outputs.data, 1)\n",
        "                        val_pred = predict_label(val_outputs.data, 0.5)\n",
        "                        val_running_loss += val_loss.item()\n",
        "                        val_running_corrects += multiclass_accuracy(val_pred, val_labels)\n",
        "\n",
        "\n",
        "                    average_train_loss = running_loss / eval_every\n",
        "                    average_val_loss = val_running_loss / len(valid_loader)\n",
        "\n",
        "                    train_loss.append(average_train_loss)\n",
        "                    valid_loss.append(average_val_loss)\n",
        "\n",
        "                    average_train_acc = running_corrects / float(running_num)\n",
        "                    average_val_acc = val_running_corrects / float(len(valid_loader))\n",
        "\n",
        "                    print('Epoch [{}/{}], Step [{}/{}], Train Loss: {:.4f}, Train Acc: {:.4f}, Valid Loss: {:.4f},\\\n",
        "                    Valid Acc: {:.4f}'\n",
        "                          .format(epoch+1, num_epochs, global_step, total_step, average_train_loss,\n",
        "                                  average_train_acc, average_val_loss, average_val_acc))\n",
        "\n",
        "                    running_loss = 0.0\n",
        "                    running_num = 0\n",
        "                    running_corrects = 0\n",
        "                    \n",
        "                    if average_val_loss < best_val_loss:\n",
        "                        best_val_loss = average_val_loss\n",
        "                        print(best_val_loss)\n",
        "                        save_checkpoint(save_name, net, optimizer, best_val_loss)\n",
        "                    \n",
        "                    \n",
        "    print('Finished Training')\n",
        "    return train_loss, valid_loss"
      ],
      "execution_count": 0,
      "outputs": []
    },
    {
      "cell_type": "markdown",
      "metadata": {
        "id": "kE_qltoyJMqd",
        "colab_type": "text"
      },
      "source": [
        "# Define CNN"
      ]
    },
    {
      "cell_type": "code",
      "metadata": {
        "id": "RPvqhZXaJFia",
        "colab_type": "code",
        "colab": {}
      },
      "source": [
        "import torch.nn as nn\n",
        "import torch.nn.functional as F\n",
        "import torch.optim as optim\n",
        "\n",
        "\n",
        "class Net(nn.Module):\n",
        "    def __init__(self):\n",
        "        super(Net, self).__init__()\n",
        "        \n",
        "        self.conv1 = nn.Conv2d(in_channels=3, out_channels=32, kernel_size=5)  \n",
        "        self.pool = nn.MaxPool2d(2, 2)\n",
        "        self.conv2 = nn.Conv2d(in_channels=32, out_channels=64,  kernel_size=5)\n",
        "        self.conv3 = nn.Conv2d(in_channels=64, out_channels=64, kernel_size=5)\n",
        "        self.conv4 = nn.Conv2d(in_channels=64, out_channels=128, kernel_size=3)\n",
        "        self.conv5 = nn.Conv2d(in_channels=128, out_channels=256, kernel_size=3)\n",
        "        self.conv6 = nn.Conv2d(in_channels=256, out_channels=512, kernel_size=3)\n",
        "        self.conv7 = nn.Conv2d(in_channels=128, out_channels=128, kernel_size=3) \n",
        "        self.fc1 = nn.Linear(256 * 6 * 3, 100)\n",
        "        self.fc2 = nn.Linear(100, 50)\n",
        "        self.fc3 = nn.Linear(50, 7)\n",
        "        self.bn1 = nn.BatchNorm1d(256 * 6 * 3)\n",
        "        self.bn2 = nn.BatchNorm1d(100)\n",
        "        self.bn3 = nn.BatchNorm1d(50)\n",
        "        self.bn2_1 = nn.BatchNorm2d(32)\n",
        "        self.bn2_2 = nn.BatchNorm2d(64)\n",
        "        self.bn2_3 = nn.BatchNorm2d(128)\n",
        "        self.bn2_4 = nn.BatchNorm2d(128, 33 * 22)\n",
        "        self.drop1 = nn.Dropout(0.25)\n",
        "\n",
        "        self.sigmoid = nn.Sigmoid()\n",
        "\n",
        "    def forward(self, x):\n",
        "        #  3, 47, 32\n",
        "        # out_dim = in_dim - kernel_size + 1  \n",
        "        x = F.relu(self.conv1(x)) #6, 21, 14\n",
        "        x = self.bn2_1(x) \n",
        "        x = self.pool(F.relu(self.conv2(x))) #16, 8, 5\n",
        "        x = self.drop1(x)\n",
        "        x = self.bn2_2(x)\n",
        "        x = self.pool(F.relu(self.conv3(x))) #10, 25, 6\n",
        "        x = self.drop1(x)\n",
        "        x = self.pool(F.relu(self.conv4(x))) # 6, 11, 7\n",
        "        x = self.bn2_3(x)\n",
        "        x = self.pool(F.relu(self.conv5(x)))\n",
        "        #x = F.relu(self.conv6(x))\n",
        "        #x = self.pool(F.relu(self.conv7(x)))\n",
        "        #x = self.bn2_4(x)\n",
        "        x = x.view(-1, 256 * 6 * 3)\n",
        "        x = self.drop1(x)\n",
        "        x = F.relu(self.fc1(x))\n",
        "        x = self.bn2(x)\n",
        "        x = self.drop1(x)\n",
        "        x = F.relu(self.fc2(x))\n",
        "        x = self.bn3(x)\n",
        "        x = self.sigmoid(self.fc3(x))\n",
        "        return x"
      ],
      "execution_count": 0,
      "outputs": []
    },
    {
      "cell_type": "code",
      "metadata": {
        "id": "JE8ltGOsJHfo",
        "colab_type": "code",
        "colab": {}
      },
      "source": [
        "device = torch.device(\"cuda\" if torch.cuda.is_available() else \"cpu\")\n",
        "# inputs = inputs.to(device)"
      ],
      "execution_count": 0,
      "outputs": []
    },
    {
      "cell_type": "code",
      "metadata": {
        "id": "sGQqsucrwiLO",
        "colab_type": "code",
        "outputId": "d761358a-2ea2-4018-e754-ea1314e0ebd0",
        "colab": {
          "base_uri": "https://localhost:8080/",
          "height": 459
        }
      },
      "source": [
        "batch_size = 128\n",
        "\n",
        "train_loader = DataLoader(train, batch_size=batch_size,\n",
        "                          shuffle=True, num_workers=1)\n",
        "\n",
        "valid_loader = DataLoader(test, batch_size=batch_size,\n",
        "                          shuffle=True, num_workers=1)\n",
        "\n",
        "test_loader = DataLoader(test, batch_size=1,\n",
        "                         shuffle=True, num_workers=1)\n",
        "\n",
        "dataiter = iter(test_loader)\n",
        "inputs, labels = dataiter.next()\n",
        "\n",
        "print(f'Batched features:\\n {inputs, inputs.shape}, \\\n",
        "      \\n Batched labels:\\n {labels}')"
      ],
      "execution_count": 0,
      "outputs": [
        {
          "output_type": "stream",
          "text": [
            "Batched features:\n",
            " (tensor([[[[-0.7804, -0.8039, -0.7961,  ..., -0.8588, -0.7412, -0.8118],\n",
            "          [-0.7725, -0.8510, -0.8118,  ..., -0.9216, -0.8118, -0.7725],\n",
            "          [-0.4667, -0.3725, -0.2627,  ..., -0.2941, -0.0275,  0.0353],\n",
            "          ...,\n",
            "          [ 0.9843,  0.9843,  0.9843,  ...,  0.9843,  0.9843,  0.9843],\n",
            "          [ 0.9843,  0.9843,  0.9843,  ...,  0.9843,  0.9843,  0.9843],\n",
            "          [ 0.9843,  0.9843,  0.9843,  ...,  0.9843,  0.9843,  0.9843]],\n",
            "\n",
            "         [[-0.2314, -0.2314, -0.2471,  ..., -0.5216, -0.2000, -0.2314],\n",
            "          [-0.1686, -0.2941, -0.2706,  ..., -0.5059, -0.2000, -0.1373],\n",
            "          [-0.1922, -0.1529, -0.0980,  ..., -0.2235,  0.1059,  0.2000],\n",
            "          ...,\n",
            "          [ 0.9843,  0.9843,  0.9843,  ...,  0.9843,  0.9843,  0.9843],\n",
            "          [ 0.9843,  0.9843,  0.9843,  ...,  0.9843,  0.9843,  0.9843],\n",
            "          [ 0.9843,  0.9843,  0.9843,  ...,  0.9843,  0.9843,  0.9843]],\n",
            "\n",
            "         [[-0.8118, -0.9216, -0.8667,  ..., -0.8745, -0.8667, -0.9216],\n",
            "          [-0.9451, -0.8980, -0.9294,  ..., -0.9608, -0.8745, -0.8902],\n",
            "          [-0.7961, -0.7961, -0.8196,  ..., -0.8275, -0.8275, -0.7804],\n",
            "          ...,\n",
            "          [ 0.9843,  0.9843,  0.9843,  ...,  0.9843,  0.9843,  0.9843],\n",
            "          [ 0.9843,  0.9843,  0.9843,  ...,  0.9843,  0.9843,  0.9843],\n",
            "          [ 0.9843,  0.9843,  0.9843,  ...,  0.9843,  0.9843,  0.9843]]]]), torch.Size([1, 3, 147, 100])),       \n",
            " Batched labels:\n",
            " tensor([[0, 0, 0, 1, 0, 0, 1]])\n"
          ],
          "name": "stdout"
        }
      ]
    },
    {
      "cell_type": "code",
      "metadata": {
        "id": "bc6qnhnzAY0q",
        "colab_type": "code",
        "outputId": "aaefacf7-cde0-48e8-a91e-e5edf52c1659",
        "colab": {
          "base_uri": "https://localhost:8080/",
          "height": 612
        }
      },
      "source": [
        "model = Net()\n",
        "model = model.to(device)\n",
        "summary(model, input_size=(3, 147, 100))"
      ],
      "execution_count": 0,
      "outputs": [
        {
          "output_type": "stream",
          "text": [
            "----------------------------------------------------------------\n",
            "        Layer (type)               Output Shape         Param #\n",
            "================================================================\n",
            "            Conv2d-1          [-1, 32, 143, 96]           2,432\n",
            "       BatchNorm2d-2          [-1, 32, 143, 96]              64\n",
            "            Conv2d-3          [-1, 64, 139, 92]          51,264\n",
            "         MaxPool2d-4           [-1, 64, 69, 46]               0\n",
            "           Dropout-5           [-1, 64, 69, 46]               0\n",
            "       BatchNorm2d-6           [-1, 64, 69, 46]             128\n",
            "            Conv2d-7           [-1, 64, 65, 42]         102,464\n",
            "         MaxPool2d-8           [-1, 64, 32, 21]               0\n",
            "           Dropout-9           [-1, 64, 32, 21]               0\n",
            "           Conv2d-10          [-1, 128, 30, 19]          73,856\n",
            "        MaxPool2d-11           [-1, 128, 15, 9]               0\n",
            "      BatchNorm2d-12           [-1, 128, 15, 9]             256\n",
            "           Conv2d-13           [-1, 256, 13, 7]         295,168\n",
            "        MaxPool2d-14            [-1, 256, 6, 3]               0\n",
            "          Dropout-15                 [-1, 4608]               0\n",
            "           Linear-16                  [-1, 100]         460,900\n",
            "      BatchNorm1d-17                  [-1, 100]             200\n",
            "          Dropout-18                  [-1, 100]               0\n",
            "           Linear-19                   [-1, 50]           5,050\n",
            "      BatchNorm1d-20                   [-1, 50]             100\n",
            "           Linear-21                    [-1, 7]             357\n",
            "          Sigmoid-22                    [-1, 7]               0\n",
            "================================================================\n",
            "Total params: 992,239\n",
            "Trainable params: 992,239\n",
            "Non-trainable params: 0\n",
            "----------------------------------------------------------------\n",
            "Input size (MB): 0.17\n",
            "Forward/backward pass size (MB): 20.66\n",
            "Params size (MB): 3.79\n",
            "Estimated Total Size (MB): 24.61\n",
            "----------------------------------------------------------------\n"
          ],
          "name": "stdout"
        }
      ]
    },
    {
      "cell_type": "code",
      "metadata": {
        "id": "z8TXKd25wrGN",
        "colab_type": "code",
        "outputId": "c35453c9-3753-4745-b15c-05c6b6ab9fb5",
        "colab": {
          "base_uri": "https://localhost:8080/",
          "height": 921
        }
      },
      "source": [
        "num_epochs = 10\n",
        "eval_every = 30\n",
        "total_step = len(train_loader)*num_epochs\n",
        "best_val_loss = None\n",
        "criterion = nn.BCELoss()\n",
        "optimizer = optim.Adam(model.parameters(), lr=0.004)\n",
        "save_path = f'cnn.pt'\n",
        "device = torch.device('cuda:0')\n",
        "model = model.to(device)\n",
        "\n",
        "train_loss, valid_loss = TRAIN(model, train_loader, valid_loader, num_epochs, eval_every, total_step, criterion, \n",
        "      optimizer, best_val_loss, device, save_path)"
      ],
      "execution_count": 0,
      "outputs": [
        {
          "output_type": "stream",
          "text": [
            "Epoch [1/10], Step [30/810], Train Loss: 0.6584, Train Acc: 0.6128, Valid Loss: 0.5996,                    Valid Acc: 0.6889\n",
            "0.5995551198720932\n",
            "Model saved to ==> cnn.pt\n",
            "Epoch [1/10], Step [60/810], Train Loss: 0.5216, Train Acc: 0.7645, Valid Loss: 0.4715,                    Valid Acc: 0.7775\n",
            "0.47146518528461456\n",
            "Model saved to ==> cnn.pt\n",
            "Epoch [2/10], Step [90/810], Train Loss: 0.4695, Train Acc: 0.7825, Valid Loss: 0.4652,                    Valid Acc: 0.7807\n",
            "0.4651519227772951\n",
            "Model saved to ==> cnn.pt\n",
            "Epoch [2/10], Step [120/810], Train Loss: 0.4674, Train Acc: 0.7842, Valid Loss: 0.4656,                    Valid Acc: 0.7856\n",
            "Epoch [2/10], Step [150/810], Train Loss: 0.4651, Train Acc: 0.7850, Valid Loss: 0.4697,                    Valid Acc: 0.7781\n",
            "Epoch [3/10], Step [180/810], Train Loss: 0.4605, Train Acc: 0.7851, Valid Loss: 0.4654,                    Valid Acc: 0.7893\n",
            "Epoch [3/10], Step [210/810], Train Loss: 0.4584, Train Acc: 0.7895, Valid Loss: 0.4630,                    Valid Acc: 0.7825\n",
            "0.46300962194800377\n",
            "Model saved to ==> cnn.pt\n",
            "Epoch [3/10], Step [240/810], Train Loss: 0.4619, Train Acc: 0.7884, Valid Loss: 0.4666,                    Valid Acc: 0.7864\n",
            "Epoch [4/10], Step [270/810], Train Loss: 0.4588, Train Acc: 0.7896, Valid Loss: 0.4686,                    Valid Acc: 0.7735\n",
            "Epoch [4/10], Step [300/810], Train Loss: 0.4571, Train Acc: 0.7885, Valid Loss: 0.4522,                    Valid Acc: 0.7899\n",
            "0.4522484727203846\n",
            "Model saved to ==> cnn.pt\n",
            "Epoch [5/10], Step [330/810], Train Loss: 0.4484, Train Acc: 0.7936, Valid Loss: 0.4535,                    Valid Acc: 0.7897\n",
            "Epoch [5/10], Step [360/810], Train Loss: 0.4506, Train Acc: 0.7934, Valid Loss: 0.4506,                    Valid Acc: 0.7914\n",
            "0.45060087740421295\n",
            "Model saved to ==> cnn.pt\n",
            "Epoch [5/10], Step [390/810], Train Loss: 0.4507, Train Acc: 0.7946, Valid Loss: 0.4532,                    Valid Acc: 0.7880\n",
            "Epoch [6/10], Step [420/810], Train Loss: 0.4508, Train Acc: 0.7950, Valid Loss: 0.4581,                    Valid Acc: 0.7902\n",
            "Epoch [6/10], Step [450/810], Train Loss: 0.4485, Train Acc: 0.7934, Valid Loss: 0.4495,                    Valid Acc: 0.7913\n",
            "0.44951299019157887\n",
            "Model saved to ==> cnn.pt\n",
            "Epoch [6/10], Step [480/810], Train Loss: 0.4404, Train Acc: 0.7990, Valid Loss: 0.4462,                    Valid Acc: 0.7919\n",
            "0.44618551433086395\n",
            "Model saved to ==> cnn.pt\n",
            "Epoch [7/10], Step [510/810], Train Loss: 0.4492, Train Acc: 0.7931, Valid Loss: 0.4501,                    Valid Acc: 0.7943\n",
            "Epoch [7/10], Step [540/810], Train Loss: 0.4376, Train Acc: 0.7997, Valid Loss: 0.4444,                    Valid Acc: 0.7952\n",
            "0.4444049969315529\n",
            "Model saved to ==> cnn.pt\n",
            "Epoch [8/10], Step [570/810], Train Loss: 0.4376, Train Acc: 0.8004, Valid Loss: 0.4471,                    Valid Acc: 0.7953\n",
            "Epoch [8/10], Step [600/810], Train Loss: 0.4453, Train Acc: 0.7929, Valid Loss: 0.4507,                    Valid Acc: 0.7860\n",
            "Epoch [8/10], Step [630/810], Train Loss: 0.4364, Train Acc: 0.7990, Valid Loss: 0.4414,                    Valid Acc: 0.7963\n",
            "0.4413754679262638\n",
            "Model saved to ==> cnn.pt\n",
            "Epoch [9/10], Step [660/810], Train Loss: 0.4386, Train Acc: 0.7975, Valid Loss: 0.4586,                    Valid Acc: 0.7881\n",
            "Epoch [9/10], Step [690/810], Train Loss: 0.4389, Train Acc: 0.7989, Valid Loss: 0.4420,                    Valid Acc: 0.7967\n",
            "Epoch [9/10], Step [720/810], Train Loss: 0.4372, Train Acc: 0.7987, Valid Loss: 0.4387,                    Valid Acc: 0.7960\n",
            "0.4387098643928766\n",
            "Model saved to ==> cnn.pt\n",
            "Epoch [10/10], Step [750/810], Train Loss: 0.4271, Train Acc: 0.8038, Valid Loss: 0.4385,                    Valid Acc: 0.7967\n",
            "0.43853189796209335\n",
            "Model saved to ==> cnn.pt\n",
            "Epoch [10/10], Step [780/810], Train Loss: 0.4350, Train Acc: 0.7993, Valid Loss: 0.4411,                    Valid Acc: 0.7963\n",
            "Epoch [10/10], Step [810/810], Train Loss: 0.4320, Train Acc: 0.8007, Valid Loss: 0.4434,                    Valid Acc: 0.7951\n",
            "Finished Training\n"
          ],
          "name": "stdout"
        }
      ]
    },
    {
      "cell_type": "code",
      "metadata": {
        "id": "BVoxtCd51CPx",
        "colab_type": "code",
        "outputId": "15ca93cb-5664-4565-9ae0-603d19e2457e",
        "colab": {
          "base_uri": "https://localhost:8080/",
          "height": 295
        }
      },
      "source": [
        "plt.plot(train_loss)\n",
        "plt.xlabel(\"every 30 steps\")\n",
        "plt.ylabel(\"loss\")\n",
        "plt.title(\"Training loss\")\n",
        "plt.show()"
      ],
      "execution_count": 0,
      "outputs": [
        {
          "output_type": "display_data",
          "data": {
            "image/png": "[encoded data removed]",
            "text/plain": [
              "<Figure size 432x288 with 1 Axes>"
            ]
          },
          "metadata": {
            "tags": [],
            "needs_background": "light"
          }
        }
      ]
    },
    {
      "cell_type": "code",
      "metadata": {
        "id": "dxzb4UbM2_PN",
        "colab_type": "code",
        "outputId": "33470e1b-ca1c-4ac5-8b4d-3b1d5ac98ade",
        "colab": {
          "base_uri": "https://localhost:8080/",
          "height": 295
        }
      },
      "source": [
        "plt.plot(valid_loss)\n",
        "plt.xlabel(\"every 30 steps\")\n",
        "plt.ylabel(\"loss\")\n",
        "plt.title(\"Validation loss\")\n",
        "plt.show()"
      ],
      "execution_count": 0,
      "outputs": [
        {
          "output_type": "display_data",
          "data": {
            "image/png": "[encoded data removed]",
            "text/plain": [
              "<Figure size 432x288 with 1 Axes>"
            ]
          },
          "metadata": {
            "tags": [],
            "needs_background": "light"
          }
        }
      ]
    },
    {
      "cell_type": "markdown",
      "metadata": {
        "id": "BbT5kBXQZN_N",
        "colab_type": "text"
      },
      "source": [
        "# Hyperparameter setting"
      ]
    },
    {
      "cell_type": "code",
      "metadata": {
        "id": "-V22EEBF5Omm",
        "colab_type": "code",
        "outputId": "cd7bf290-25d8-4349-8ffa-9e5eb1f98933",
        "colab": {
          "base_uri": "https://localhost:8080/",
          "height": 459
        }
      },
      "source": [
        "batch_size = 32\n",
        "\n",
        "train_loader = DataLoader(train, batch_size=batch_size,\n",
        "                          shuffle=True, num_workers=1)\n",
        "\n",
        "valid_loader = DataLoader(test, batch_size=batch_size,\n",
        "                          shuffle=True, num_workers=1)\n",
        "\n",
        "test_loader = DataLoader(test, batch_size=1,\n",
        "                         shuffle=True, num_workers=1)\n",
        "\n",
        "dataiter = iter(test_loader)\n",
        "inputs, labels = dataiter.next()\n",
        "\n",
        "print(f'Batched features:\\n {inputs, inputs.shape}, \\\n",
        "      \\n Batched labels:\\n {labels}')"
      ],
      "execution_count": 0,
      "outputs": [
        {
          "output_type": "stream",
          "text": [
            "Batched features:\n",
            " (tensor([[[[ 0.2235,  0.2157,  0.2078,  ..., -1.0000, -1.0000, -1.0000],\n",
            "          [ 0.2392,  0.2784,  0.3020,  ..., -1.0000, -1.0000, -1.0000],\n",
            "          [ 0.2863,  0.3412,  0.3647,  ..., -1.0000, -1.0000, -1.0000],\n",
            "          ...,\n",
            "          [-0.2314, -0.2549, -0.2235,  ..., -1.0000, -1.0000, -1.0000],\n",
            "          [-0.2392, -0.2314, -0.1922,  ..., -1.0000, -1.0000, -1.0000],\n",
            "          [-0.2941, -0.2549, -0.1843,  ..., -1.0000, -1.0000, -1.0000]],\n",
            "\n",
            "         [[ 0.1843,  0.1765,  0.1686,  ..., -1.0000, -1.0000, -1.0000],\n",
            "          [ 0.2000,  0.2392,  0.2627,  ..., -1.0000, -1.0000, -1.0000],\n",
            "          [ 0.2471,  0.3020,  0.3255,  ..., -1.0000, -1.0000, -1.0000],\n",
            "          ...,\n",
            "          [-0.9686, -0.9843, -0.9686,  ..., -1.0000, -1.0000, -1.0000],\n",
            "          [-0.9686, -0.9922, -0.9922,  ..., -1.0000, -1.0000, -1.0000],\n",
            "          [-0.9922, -1.0000, -1.0000,  ..., -1.0000, -1.0000, -1.0000]],\n",
            "\n",
            "         [[ 0.1529,  0.1451,  0.1373,  ..., -1.0000, -1.0000, -1.0000],\n",
            "          [ 0.1686,  0.2078,  0.2314,  ..., -1.0000, -1.0000, -1.0000],\n",
            "          [ 0.2157,  0.2706,  0.2863,  ..., -1.0000, -1.0000, -1.0000],\n",
            "          ...,\n",
            "          [-0.9608, -0.9765, -0.9529,  ..., -1.0000, -1.0000, -1.0000],\n",
            "          [-0.9529, -0.9843, -0.9843,  ..., -1.0000, -1.0000, -1.0000],\n",
            "          [-0.9843, -1.0000, -1.0000,  ..., -1.0000, -1.0000, -1.0000]]]]), torch.Size([1, 3, 147, 100])),       \n",
            " Batched labels:\n",
            " tensor([[0, 0, 0, 0, 1, 0, 0]])\n"
          ],
          "name": "stdout"
        }
      ]
    },
    {
      "cell_type": "code",
      "metadata": {
        "id": "4L7DKIYtJQ0w",
        "colab_type": "code",
        "outputId": "058ea2bd-173b-42ab-b175-653047c4441d",
        "colab": {
          "base_uri": "https://localhost:8080/",
          "height": 612
        }
      },
      "source": [
        "model = Net()\n",
        "model = model.to(device)\n",
        "summary(model, input_size=(3, 147, 100))"
      ],
      "execution_count": 0,
      "outputs": [
        {
          "output_type": "stream",
          "text": [
            "----------------------------------------------------------------\n",
            "        Layer (type)               Output Shape         Param #\n",
            "================================================================\n",
            "            Conv2d-1          [-1, 32, 143, 96]           2,432\n",
            "       BatchNorm2d-2          [-1, 32, 143, 96]              64\n",
            "            Conv2d-3          [-1, 64, 139, 92]          51,264\n",
            "         MaxPool2d-4           [-1, 64, 69, 46]               0\n",
            "           Dropout-5           [-1, 64, 69, 46]               0\n",
            "       BatchNorm2d-6           [-1, 64, 69, 46]             128\n",
            "            Conv2d-7           [-1, 64, 65, 42]         102,464\n",
            "         MaxPool2d-8           [-1, 64, 32, 21]               0\n",
            "           Dropout-9           [-1, 64, 32, 21]               0\n",
            "           Conv2d-10          [-1, 128, 30, 19]          73,856\n",
            "        MaxPool2d-11           [-1, 128, 15, 9]               0\n",
            "      BatchNorm2d-12           [-1, 128, 15, 9]             256\n",
            "           Conv2d-13           [-1, 256, 13, 7]         295,168\n",
            "        MaxPool2d-14            [-1, 256, 6, 3]               0\n",
            "          Dropout-15                 [-1, 4608]               0\n",
            "           Linear-16                  [-1, 100]         460,900\n",
            "      BatchNorm1d-17                  [-1, 100]             200\n",
            "          Dropout-18                  [-1, 100]               0\n",
            "           Linear-19                   [-1, 50]           5,050\n",
            "      BatchNorm1d-20                   [-1, 50]             100\n",
            "           Linear-21                    [-1, 7]             357\n",
            "          Sigmoid-22                    [-1, 7]               0\n",
            "================================================================\n",
            "Total params: 992,239\n",
            "Trainable params: 992,239\n",
            "Non-trainable params: 0\n",
            "----------------------------------------------------------------\n",
            "Input size (MB): 0.17\n",
            "Forward/backward pass size (MB): 20.66\n",
            "Params size (MB): 3.79\n",
            "Estimated Total Size (MB): 24.61\n",
            "----------------------------------------------------------------\n"
          ],
          "name": "stdout"
        }
      ]
    },
    {
      "cell_type": "code",
      "metadata": {
        "id": "9st9QdHA8mQM",
        "colab_type": "code",
        "outputId": "035dfe16-c394-4ec8-a8ed-034ead47980f",
        "colab": {
          "base_uri": "https://localhost:8080/",
          "height": 1000
        }
      },
      "source": [
        "num_epochs = 10\n",
        "eval_every = 30\n",
        "total_step = len(train_loader)*num_epochs\n",
        "best_val_loss = None\n",
        "criterion = nn.BCELoss()\n",
        "optimizer = optim.Adam(model.parameters(), lr=0.001)\n",
        "save_path = f'cnn.pt'\n",
        "device = torch.device('cuda:0')\n",
        "model = model.to(device)\n",
        "\n",
        "train_loss, valid_loss = TRAIN(model, train_loader, valid_loader, num_epochs, eval_every, total_step, criterion, \n",
        "      optimizer, best_val_loss, device, save_path)"
      ],
      "execution_count": 0,
      "outputs": [
        {
          "output_type": "stream",
          "text": [
            "Epoch [1/10], Step [30/3240], Train Loss: 0.7092, Train Acc: 0.5249, Valid Loss: 0.6721,                    Valid Acc: 0.5717\n",
            "0.6721068251700628\n",
            "Model saved to ==> cnn.pt\n",
            "Epoch [1/10], Step [60/3240], Train Loss: 0.6770, Train Acc: 0.5649, Valid Loss: 0.6444,                    Valid Acc: 0.6502\n",
            "0.6443908148341708\n",
            "Model saved to ==> cnn.pt\n",
            "Epoch [1/10], Step [90/3240], Train Loss: 0.6500, Train Acc: 0.6354, Valid Loss: 0.6281,                    Valid Acc: 0.7221\n",
            "0.6281324502021547\n",
            "Model saved to ==> cnn.pt\n",
            "Epoch [1/10], Step [120/3240], Train Loss: 0.6204, Train Acc: 0.6894, Valid Loss: 0.6073,                    Valid Acc: 0.7166\n",
            "0.6072584456867642\n",
            "Model saved to ==> cnn.pt\n",
            "Epoch [1/10], Step [150/3240], Train Loss: 0.5803, Train Acc: 0.7330, Valid Loss: 0.5524,                    Valid Acc: 0.7713\n",
            "0.5523807860556103\n",
            "Model saved to ==> cnn.pt\n",
            "Epoch [1/10], Step [180/3240], Train Loss: 0.5422, Train Acc: 0.7626, Valid Loss: 0.5192,                    Valid Acc: 0.7776\n",
            "0.5192334907395499\n",
            "Model saved to ==> cnn.pt\n",
            "Epoch [1/10], Step [210/3240], Train Loss: 0.5088, Train Acc: 0.7778, Valid Loss: 0.5048,                    Valid Acc: 0.7665\n",
            "0.5048213392969162\n",
            "Model saved to ==> cnn.pt\n",
            "Epoch [1/10], Step [240/3240], Train Loss: 0.4928, Train Acc: 0.7796, Valid Loss: 0.4788,                    Valid Acc: 0.7844\n",
            "0.47882437091025093\n",
            "Model saved to ==> cnn.pt\n",
            "Epoch [1/10], Step [270/3240], Train Loss: 0.4738, Train Acc: 0.7848, Valid Loss: 0.4730,                    Valid Acc: 0.7905\n",
            "0.4730118863166325\n",
            "Model saved to ==> cnn.pt\n",
            "Epoch [1/10], Step [300/3240], Train Loss: 0.4684, Train Acc: 0.7844, Valid Loss: 0.4616,                    Valid Acc: 0.7885\n",
            "0.4615872771967025\n",
            "Model saved to ==> cnn.pt\n",
            "Epoch [2/10], Step [330/3240], Train Loss: 0.4693, Train Acc: 0.7891, Valid Loss: 0.4664,                    Valid Acc: 0.7852\n",
            "Epoch [2/10], Step [360/3240], Train Loss: 0.4677, Train Acc: 0.7798, Valid Loss: 0.4570,                    Valid Acc: 0.7902\n",
            "0.45702754079349456\n",
            "Model saved to ==> cnn.pt\n",
            "Epoch [2/10], Step [390/3240], Train Loss: 0.4528, Train Acc: 0.7929, Valid Loss: 0.4598,                    Valid Acc: 0.7910\n",
            "Epoch [2/10], Step [420/3240], Train Loss: 0.4623, Train Acc: 0.7862, Valid Loss: 0.4591,                    Valid Acc: 0.7902\n",
            "Epoch [2/10], Step [450/3240], Train Loss: 0.4522, Train Acc: 0.7948, Valid Loss: 0.4603,                    Valid Acc: 0.7884\n",
            "Epoch [2/10], Step [480/3240], Train Loss: 0.4624, Train Acc: 0.7872, Valid Loss: 0.4592,                    Valid Acc: 0.7893\n",
            "Epoch [2/10], Step [510/3240], Train Loss: 0.4478, Train Acc: 0.8010, Valid Loss: 0.4602,                    Valid Acc: 0.7890\n",
            "Epoch [2/10], Step [540/3240], Train Loss: 0.4568, Train Acc: 0.7924, Valid Loss: 0.4544,                    Valid Acc: 0.7928\n",
            "0.4543752187774295\n",
            "Model saved to ==> cnn.pt\n",
            "Epoch [2/10], Step [570/3240], Train Loss: 0.4554, Train Acc: 0.7887, Valid Loss: 0.4563,                    Valid Acc: 0.7918\n",
            "Epoch [2/10], Step [600/3240], Train Loss: 0.4638, Train Acc: 0.7917, Valid Loss: 0.4536,                    Valid Acc: 0.7923\n",
            "0.45360380316537524\n",
            "Model saved to ==> cnn.pt\n",
            "Epoch [2/10], Step [630/3240], Train Loss: 0.4523, Train Acc: 0.7885, Valid Loss: 0.4520,                    Valid Acc: 0.7935\n",
            "0.4519955785501571\n",
            "Model saved to ==> cnn.pt\n",
            "Epoch [3/10], Step [660/3240], Train Loss: 0.4534, Train Acc: 0.7962, Valid Loss: 0.4512,                    Valid Acc: 0.7934\n",
            "0.4511567841446589\n",
            "Model saved to ==> cnn.pt\n",
            "Epoch [3/10], Step [690/3240], Train Loss: 0.4472, Train Acc: 0.7970, Valid Loss: 0.4533,                    Valid Acc: 0.7899\n",
            "Epoch [3/10], Step [720/3240], Train Loss: 0.4677, Train Acc: 0.7847, Valid Loss: 0.4480,                    Valid Acc: 0.7921\n",
            "0.44797749320665997\n",
            "Model saved to ==> cnn.pt\n",
            "Epoch [3/10], Step [750/3240], Train Loss: 0.4494, Train Acc: 0.7933, Valid Loss: 0.4490,                    Valid Acc: 0.7929\n",
            "Epoch [3/10], Step [780/3240], Train Loss: 0.4502, Train Acc: 0.7938, Valid Loss: 0.4529,                    Valid Acc: 0.7941\n",
            "Epoch [3/10], Step [810/3240], Train Loss: 0.4389, Train Acc: 0.8039, Valid Loss: 0.4621,                    Valid Acc: 0.7926\n",
            "Epoch [3/10], Step [840/3240], Train Loss: 0.4418, Train Acc: 0.7981, Valid Loss: 0.4485,                    Valid Acc: 0.7946\n",
            "Epoch [3/10], Step [870/3240], Train Loss: 0.4522, Train Acc: 0.7900, Valid Loss: 0.4500,                    Valid Acc: 0.7935\n",
            "Epoch [3/10], Step [900/3240], Train Loss: 0.4667, Train Acc: 0.7815, Valid Loss: 0.4682,                    Valid Acc: 0.7804\n",
            "Epoch [3/10], Step [930/3240], Train Loss: 0.4553, Train Acc: 0.7884, Valid Loss: 0.4525,                    Valid Acc: 0.7905\n",
            "Epoch [3/10], Step [960/3240], Train Loss: 0.4548, Train Acc: 0.7865, Valid Loss: 0.4550,                    Valid Acc: 0.7910\n",
            "Epoch [4/10], Step [990/3240], Train Loss: 0.4500, Train Acc: 0.7977, Valid Loss: 0.4488,                    Valid Acc: 0.7941\n",
            "Epoch [4/10], Step [1020/3240], Train Loss: 0.4466, Train Acc: 0.7939, Valid Loss: 0.4597,                    Valid Acc: 0.7931\n",
            "Epoch [4/10], Step [1050/3240], Train Loss: 0.4465, Train Acc: 0.7982, Valid Loss: 0.4492,                    Valid Acc: 0.7963\n",
            "Epoch [4/10], Step [1080/3240], Train Loss: 0.4503, Train Acc: 0.7887, Valid Loss: 0.4562,                    Valid Acc: 0.7942\n",
            "Epoch [4/10], Step [1110/3240], Train Loss: 0.4490, Train Acc: 0.7930, Valid Loss: 0.4464,                    Valid Acc: 0.7965\n",
            "0.4464388778285375\n",
            "Model saved to ==> cnn.pt\n",
            "Epoch [4/10], Step [1140/3240], Train Loss: 0.4379, Train Acc: 0.7969, Valid Loss: 0.4483,                    Valid Acc: 0.7956\n",
            "Epoch [4/10], Step [1170/3240], Train Loss: 0.4500, Train Acc: 0.7930, Valid Loss: 0.4513,                    Valid Acc: 0.7945\n",
            "Epoch [4/10], Step [1200/3240], Train Loss: 0.4309, Train Acc: 0.8028, Valid Loss: 0.4445,                    Valid Acc: 0.7961\n",
            "0.44453804407800945\n",
            "Model saved to ==> cnn.pt\n",
            "Epoch [4/10], Step [1230/3240], Train Loss: 0.4537, Train Acc: 0.7945, Valid Loss: 0.4514,                    Valid Acc: 0.7924\n",
            "Epoch [4/10], Step [1260/3240], Train Loss: 0.4478, Train Acc: 0.7969, Valid Loss: 0.4451,                    Valid Acc: 0.7967\n",
            "Epoch [4/10], Step [1290/3240], Train Loss: 0.4548, Train Acc: 0.7890, Valid Loss: 0.4476,                    Valid Acc: 0.7928\n",
            "Epoch [5/10], Step [1320/3240], Train Loss: 0.4421, Train Acc: 0.7986, Valid Loss: 0.4453,                    Valid Acc: 0.7945\n",
            "Epoch [5/10], Step [1350/3240], Train Loss: 0.4346, Train Acc: 0.8024, Valid Loss: 0.4626,                    Valid Acc: 0.7902\n",
            "Epoch [5/10], Step [1380/3240], Train Loss: 0.4604, Train Acc: 0.7868, Valid Loss: 0.4482,                    Valid Acc: 0.7926\n",
            "Epoch [5/10], Step [1410/3240], Train Loss: 0.4366, Train Acc: 0.8021, Valid Loss: 0.4460,                    Valid Acc: 0.7951\n",
            "Epoch [5/10], Step [1440/3240], Train Loss: 0.4254, Train Acc: 0.8077, Valid Loss: 0.4421,                    Valid Acc: 0.7988\n",
            "0.44207786662237986\n",
            "Model saved to ==> cnn.pt\n",
            "Epoch [5/10], Step [1470/3240], Train Loss: 0.4301, Train Acc: 0.7982, Valid Loss: 0.4459,                    Valid Acc: 0.7923\n",
            "Epoch [5/10], Step [1500/3240], Train Loss: 0.4657, Train Acc: 0.7876, Valid Loss: 0.4476,                    Valid Acc: 0.7922\n",
            "Epoch [5/10], Step [1530/3240], Train Loss: 0.4378, Train Acc: 0.8033, Valid Loss: 0.4448,                    Valid Acc: 0.7968\n",
            "Epoch [5/10], Step [1560/3240], Train Loss: 0.4477, Train Acc: 0.7949, Valid Loss: 0.4497,                    Valid Acc: 0.7931\n",
            "Epoch [5/10], Step [1590/3240], Train Loss: 0.4555, Train Acc: 0.7878, Valid Loss: 0.4419,                    Valid Acc: 0.7960\n",
            "0.4418778968235803\n",
            "Model saved to ==> cnn.pt\n",
            "Epoch [5/10], Step [1620/3240], Train Loss: 0.4446, Train Acc: 0.7934, Valid Loss: 0.4407,                    Valid Acc: 0.7958\n",
            "0.440674787949002\n",
            "Model saved to ==> cnn.pt\n",
            "Epoch [6/10], Step [1650/3240], Train Loss: 0.4451, Train Acc: 0.7887, Valid Loss: 0.4419,                    Valid Acc: 0.7992\n",
            "Epoch [6/10], Step [1680/3240], Train Loss: 0.4372, Train Acc: 0.7943, Valid Loss: 0.4427,                    Valid Acc: 0.7966\n",
            "Epoch [6/10], Step [1710/3240], Train Loss: 0.4334, Train Acc: 0.8055, Valid Loss: 0.4434,                    Valid Acc: 0.7957\n",
            "Epoch [6/10], Step [1740/3240], Train Loss: 0.4403, Train Acc: 0.7970, Valid Loss: 0.4404,                    Valid Acc: 0.7980\n",
            "0.44039873140198843\n",
            "Model saved to ==> cnn.pt\n",
            "Epoch [6/10], Step [1770/3240], Train Loss: 0.4348, Train Acc: 0.8067, Valid Loss: 0.4406,                    Valid Acc: 0.7999\n",
            "Epoch [6/10], Step [1800/3240], Train Loss: 0.4413, Train Acc: 0.7970, Valid Loss: 0.4416,                    Valid Acc: 0.7990\n",
            "Epoch [6/10], Step [1830/3240], Train Loss: 0.4329, Train Acc: 0.8033, Valid Loss: 0.4456,                    Valid Acc: 0.7980\n",
            "Epoch [6/10], Step [1860/3240], Train Loss: 0.4373, Train Acc: 0.7981, Valid Loss: 0.4418,                    Valid Acc: 0.7965\n",
            "Epoch [6/10], Step [1890/3240], Train Loss: 0.4373, Train Acc: 0.7967, Valid Loss: 0.4460,                    Valid Acc: 0.7936\n",
            "Epoch [6/10], Step [1920/3240], Train Loss: 0.4384, Train Acc: 0.7990, Valid Loss: 0.4421,                    Valid Acc: 0.7966\n",
            "Epoch [7/10], Step [1950/3240], Train Loss: 0.4452, Train Acc: 0.7901, Valid Loss: 0.4415,                    Valid Acc: 0.7957\n",
            "Epoch [7/10], Step [1980/3240], Train Loss: 0.4296, Train Acc: 0.7999, Valid Loss: 0.4431,                    Valid Acc: 0.7980\n",
            "Epoch [7/10], Step [2010/3240], Train Loss: 0.4377, Train Acc: 0.7976, Valid Loss: 0.4484,                    Valid Acc: 0.7926\n",
            "Epoch [7/10], Step [2040/3240], Train Loss: 0.4359, Train Acc: 0.7999, Valid Loss: 0.4464,                    Valid Acc: 0.7945\n",
            "Epoch [7/10], Step [2070/3240], Train Loss: 0.4360, Train Acc: 0.7996, Valid Loss: 0.4419,                    Valid Acc: 0.7983\n",
            "Epoch [7/10], Step [2100/3240], Train Loss: 0.4516, Train Acc: 0.7859, Valid Loss: 0.4453,                    Valid Acc: 0.7975\n",
            "Epoch [7/10], Step [2130/3240], Train Loss: 0.4361, Train Acc: 0.7988, Valid Loss: 0.4400,                    Valid Acc: 0.7991\n",
            "0.44003084065422177\n",
            "Model saved to ==> cnn.pt\n",
            "Epoch [7/10], Step [2160/3240], Train Loss: 0.4360, Train Acc: 0.7975, Valid Loss: 0.4389,                    Valid Acc: 0.8009\n",
            "0.43890826285831513\n",
            "Model saved to ==> cnn.pt\n",
            "Epoch [7/10], Step [2190/3240], Train Loss: 0.4198, Train Acc: 0.8085, Valid Loss: 0.4415,                    Valid Acc: 0.7964\n",
            "Epoch [7/10], Step [2220/3240], Train Loss: 0.4369, Train Acc: 0.7932, Valid Loss: 0.4376,                    Valid Acc: 0.7998\n",
            "0.4376326785201118\n",
            "Model saved to ==> cnn.pt\n",
            "Epoch [7/10], Step [2250/3240], Train Loss: 0.4365, Train Acc: 0.8003, Valid Loss: 0.4419,                    Valid Acc: 0.7988\n",
            "Epoch [8/10], Step [2280/3240], Train Loss: 0.4336, Train Acc: 0.8039, Valid Loss: 0.4398,                    Valid Acc: 0.7991\n",
            "Epoch [8/10], Step [2310/3240], Train Loss: 0.4234, Train Acc: 0.8046, Valid Loss: 0.4404,                    Valid Acc: 0.7978\n",
            "Epoch [8/10], Step [2340/3240], Train Loss: 0.4399, Train Acc: 0.7999, Valid Loss: 0.4411,                    Valid Acc: 0.7980\n",
            "Epoch [8/10], Step [2370/3240], Train Loss: 0.4318, Train Acc: 0.8036, Valid Loss: 0.4410,                    Valid Acc: 0.7986\n",
            "Epoch [8/10], Step [2400/3240], Train Loss: 0.4360, Train Acc: 0.7990, Valid Loss: 0.4397,                    Valid Acc: 0.7982\n",
            "Epoch [8/10], Step [2430/3240], Train Loss: 0.4309, Train Acc: 0.8004, Valid Loss: 0.4377,                    Valid Acc: 0.7979\n",
            "Epoch [8/10], Step [2460/3240], Train Loss: 0.4417, Train Acc: 0.7949, Valid Loss: 0.4379,                    Valid Acc: 0.7980\n",
            "Epoch [8/10], Step [2490/3240], Train Loss: 0.4300, Train Acc: 0.8095, Valid Loss: 0.4376,                    Valid Acc: 0.7992\n",
            "0.4375510386058262\n",
            "Model saved to ==> cnn.pt\n",
            "Epoch [8/10], Step [2520/3240], Train Loss: 0.4299, Train Acc: 0.8013, Valid Loss: 0.4385,                    Valid Acc: 0.7995\n",
            "Epoch [8/10], Step [2550/3240], Train Loss: 0.4272, Train Acc: 0.8060, Valid Loss: 0.4348,                    Valid Acc: 0.8018\n",
            "0.4347680499629369\n",
            "Model saved to ==> cnn.pt\n",
            "Epoch [8/10], Step [2580/3240], Train Loss: 0.4265, Train Acc: 0.8001, Valid Loss: 0.4356,                    Valid Acc: 0.8012\n",
            "Epoch [9/10], Step [2610/3240], Train Loss: 0.4318, Train Acc: 0.8064, Valid Loss: 0.4378,                    Valid Acc: 0.8009\n",
            "Epoch [9/10], Step [2640/3240], Train Loss: 0.4263, Train Acc: 0.8057, Valid Loss: 0.4366,                    Valid Acc: 0.7997\n",
            "Epoch [9/10], Step [2670/3240], Train Loss: 0.4369, Train Acc: 0.7985, Valid Loss: 0.4364,                    Valid Acc: 0.8024\n",
            "Epoch [9/10], Step [2700/3240], Train Loss: 0.4264, Train Acc: 0.8046, Valid Loss: 0.4412,                    Valid Acc: 0.7990\n",
            "Epoch [9/10], Step [2730/3240], Train Loss: 0.4302, Train Acc: 0.8033, Valid Loss: 0.4378,                    Valid Acc: 0.7983\n",
            "Epoch [9/10], Step [2760/3240], Train Loss: 0.4249, Train Acc: 0.8045, Valid Loss: 0.4455,                    Valid Acc: 0.7989\n",
            "Epoch [9/10], Step [2790/3240], Train Loss: 0.4374, Train Acc: 0.7958, Valid Loss: 0.4376,                    Valid Acc: 0.8026\n",
            "Epoch [9/10], Step [2820/3240], Train Loss: 0.4249, Train Acc: 0.8088, Valid Loss: 0.4383,                    Valid Acc: 0.7998\n",
            "Epoch [9/10], Step [2850/3240], Train Loss: 0.4373, Train Acc: 0.7984, Valid Loss: 0.4367,                    Valid Acc: 0.8016\n",
            "Epoch [9/10], Step [2880/3240], Train Loss: 0.4284, Train Acc: 0.8028, Valid Loss: 0.4376,                    Valid Acc: 0.7998\n",
            "Epoch [9/10], Step [2910/3240], Train Loss: 0.4324, Train Acc: 0.8009, Valid Loss: 0.4309,                    Valid Acc: 0.8021\n",
            "0.430873157486083\n",
            "Model saved to ==> cnn.pt\n",
            "Epoch [10/10], Step [2940/3240], Train Loss: 0.4255, Train Acc: 0.8050, Valid Loss: 0.4394,                    Valid Acc: 0.7975\n",
            "Epoch [10/10], Step [2970/3240], Train Loss: 0.4190, Train Acc: 0.8022, Valid Loss: 0.4360,                    Valid Acc: 0.8004\n",
            "Epoch [10/10], Step [3000/3240], Train Loss: 0.4248, Train Acc: 0.8040, Valid Loss: 0.4375,                    Valid Acc: 0.7975\n",
            "Epoch [10/10], Step [3030/3240], Train Loss: 0.4247, Train Acc: 0.8045, Valid Loss: 0.4353,                    Valid Acc: 0.7990\n",
            "Epoch [10/10], Step [3060/3240], Train Loss: 0.4230, Train Acc: 0.8067, Valid Loss: 0.4332,                    Valid Acc: 0.8014\n",
            "Epoch [10/10], Step [3090/3240], Train Loss: 0.4276, Train Acc: 0.8052, Valid Loss: 0.4347,                    Valid Acc: 0.7971\n",
            "Epoch [10/10], Step [3120/3240], Train Loss: 0.4267, Train Acc: 0.7966, Valid Loss: 0.4364,                    Valid Acc: 0.8036\n",
            "Epoch [10/10], Step [3150/3240], Train Loss: 0.4387, Train Acc: 0.7973, Valid Loss: 0.4349,                    Valid Acc: 0.7968\n",
            "Epoch [10/10], Step [3180/3240], Train Loss: 0.4341, Train Acc: 0.7979, Valid Loss: 0.4371,                    Valid Acc: 0.8010\n",
            "Epoch [10/10], Step [3210/3240], Train Loss: 0.4190, Train Acc: 0.8071, Valid Loss: 0.4353,                    Valid Acc: 0.7980\n",
            "Epoch [10/10], Step [3240/3240], Train Loss: 0.4348, Train Acc: 0.7992, Valid Loss: 0.4376,                    Valid Acc: 0.8021\n",
            "Finished Training\n"
          ],
          "name": "stdout"
        }
      ]
    },
    {
      "cell_type": "code",
      "metadata": {
        "id": "_cdWmvK0tNFk",
        "colab_type": "code",
        "outputId": "ca867a99-b4a9-40bb-cc55-0d95edce4f62",
        "colab": {
          "base_uri": "https://localhost:8080/",
          "height": 295
        }
      },
      "source": [
        "plt.plot(train_loss)\n",
        "plt.xlabel(\"every 30 steps\")\n",
        "plt.ylabel(\"loss\")\n",
        "plt.title(\"Training loss\")\n",
        "plt.show()"
      ],
      "execution_count": 0,
      "outputs": [
        {
          "output_type": "display_data",
          "data": {
            "image/png": "[encoded data removed]",
            "text/plain": [
              "<Figure size 432x288 with 1 Axes>"
            ]
          },
          "metadata": {
            "tags": [],
            "needs_background": "light"
          }
        }
      ]
    },
    {
      "cell_type": "code",
      "metadata": {
        "id": "BREktLLCZLFt",
        "colab_type": "code",
        "outputId": "5932f6b2-d6b6-44ba-da20-7cfbc2705ee6",
        "colab": {
          "base_uri": "https://localhost:8080/",
          "height": 295
        }
      },
      "source": [
        "plt.plot(valid_loss)\n",
        "plt.xlabel(\"every 30 steps\")\n",
        "plt.ylabel(\"loss\")\n",
        "plt.title(\"Validation loss\")\n",
        "plt.show()"
      ],
      "execution_count": 0,
      "outputs": [
        {
          "output_type": "display_data",
          "data": {
            "image/png": "[encoded data removed]",
            "text/plain": [
              "<Figure size 432x288 with 1 Axes>"
            ]
          },
          "metadata": {
            "tags": [],
            "needs_background": "light"
          }
        }
      ]
    },
    {
      "cell_type": "markdown",
      "metadata": {
        "id": "_IBFddH_3BqX",
        "colab_type": "text"
      },
      "source": [
        "# Train 10 more epochs before testing"
      ]
    },
    {
      "cell_type": "code",
      "metadata": {
        "id": "1TmaNYpb7FK4",
        "colab_type": "code",
        "outputId": "1477d97b-1c3c-45b3-bca0-07c3c12b00ab",
        "colab": {
          "base_uri": "https://localhost:8080/",
          "height": 1000
        }
      },
      "source": [
        "train_loss, valid_loss = TRAIN(model, train_loader, valid_loader, num_epochs, eval_every, total_step, criterion, \n",
        "      optimizer, best_val_loss, device, save_path)"
      ],
      "execution_count": 0,
      "outputs": [
        {
          "output_type": "stream",
          "text": [
            "Epoch [1/10], Step [30/3240], Train Loss: 0.4238, Train Acc: 0.8040, Valid Loss: 0.4330,                    Valid Acc: 0.8030\n",
            "0.43304214401850627\n",
            "Model saved to ==> cnn.pt\n",
            "Epoch [1/10], Step [60/3240], Train Loss: 0.4276, Train Acc: 0.8027, Valid Loss: 0.4312,                    Valid Acc: 0.8029\n",
            "0.4311834095962464\n",
            "Model saved to ==> cnn.pt\n",
            "Epoch [1/10], Step [90/3240], Train Loss: 0.4300, Train Acc: 0.8021, Valid Loss: 0.4470,                    Valid Acc: 0.7951\n",
            "Epoch [1/10], Step [120/3240], Train Loss: 0.4273, Train Acc: 0.8019, Valid Loss: 0.4421,                    Valid Acc: 0.7980\n",
            "Epoch [1/10], Step [150/3240], Train Loss: 0.4243, Train Acc: 0.8004, Valid Loss: 0.4319,                    Valid Acc: 0.8032\n",
            "Epoch [1/10], Step [180/3240], Train Loss: 0.4178, Train Acc: 0.8115, Valid Loss: 0.4375,                    Valid Acc: 0.8002\n",
            "Epoch [1/10], Step [210/3240], Train Loss: 0.4200, Train Acc: 0.8141, Valid Loss: 0.4336,                    Valid Acc: 0.8028\n",
            "Epoch [1/10], Step [240/3240], Train Loss: 0.4237, Train Acc: 0.8071, Valid Loss: 0.4325,                    Valid Acc: 0.8016\n",
            "Epoch [1/10], Step [270/3240], Train Loss: 0.4163, Train Acc: 0.8089, Valid Loss: 0.4371,                    Valid Acc: 0.8006\n",
            "Epoch [1/10], Step [300/3240], Train Loss: 0.4224, Train Acc: 0.8070, Valid Loss: 0.4324,                    Valid Acc: 0.8045\n",
            "Epoch [2/10], Step [330/3240], Train Loss: 0.4177, Train Acc: 0.8083, Valid Loss: 0.4343,                    Valid Acc: 0.8027\n",
            "Epoch [2/10], Step [360/3240], Train Loss: 0.4184, Train Acc: 0.8037, Valid Loss: 0.4325,                    Valid Acc: 0.8035\n",
            "Epoch [2/10], Step [390/3240], Train Loss: 0.4190, Train Acc: 0.8106, Valid Loss: 0.4373,                    Valid Acc: 0.8010\n",
            "Epoch [2/10], Step [420/3240], Train Loss: 0.4168, Train Acc: 0.8076, Valid Loss: 0.4408,                    Valid Acc: 0.7995\n",
            "Epoch [2/10], Step [450/3240], Train Loss: 0.4226, Train Acc: 0.8042, Valid Loss: 0.4301,                    Valid Acc: 0.8007\n",
            "0.43013408354350496\n",
            "Model saved to ==> cnn.pt\n",
            "Epoch [2/10], Step [480/3240], Train Loss: 0.4228, Train Acc: 0.8086, Valid Loss: 0.4366,                    Valid Acc: 0.8017\n",
            "Epoch [2/10], Step [510/3240], Train Loss: 0.4254, Train Acc: 0.8040, Valid Loss: 0.4350,                    Valid Acc: 0.8014\n",
            "Epoch [2/10], Step [540/3240], Train Loss: 0.4216, Train Acc: 0.8028, Valid Loss: 0.4437,                    Valid Acc: 0.8022\n",
            "Epoch [2/10], Step [570/3240], Train Loss: 0.4194, Train Acc: 0.8091, Valid Loss: 0.4374,                    Valid Acc: 0.7996\n",
            "Epoch [2/10], Step [600/3240], Train Loss: 0.4276, Train Acc: 0.8021, Valid Loss: 0.4301,                    Valid Acc: 0.8048\n",
            "0.4301077936376844\n",
            "Model saved to ==> cnn.pt\n",
            "Epoch [2/10], Step [630/3240], Train Loss: 0.4148, Train Acc: 0.8094, Valid Loss: 0.4298,                    Valid Acc: 0.8021\n",
            "0.42981052824429106\n",
            "Model saved to ==> cnn.pt\n",
            "Epoch [3/10], Step [660/3240], Train Loss: 0.4195, Train Acc: 0.8076, Valid Loss: 0.4354,                    Valid Acc: 0.8007\n",
            "Epoch [3/10], Step [690/3240], Train Loss: 0.4099, Train Acc: 0.8098, Valid Loss: 0.4356,                    Valid Acc: 0.8042\n",
            "Epoch [3/10], Step [720/3240], Train Loss: 0.4241, Train Acc: 0.8036, Valid Loss: 0.4358,                    Valid Acc: 0.8007\n",
            "Epoch [3/10], Step [750/3240], Train Loss: 0.4148, Train Acc: 0.8100, Valid Loss: 0.4360,                    Valid Acc: 0.7944\n",
            "Epoch [3/10], Step [780/3240], Train Loss: 0.4108, Train Acc: 0.8109, Valid Loss: 0.4291,                    Valid Acc: 0.8039\n",
            "0.429109289532616\n",
            "Model saved to ==> cnn.pt\n",
            "Epoch [3/10], Step [810/3240], Train Loss: 0.4150, Train Acc: 0.8124, Valid Loss: 0.4321,                    Valid Acc: 0.8027\n",
            "Epoch [3/10], Step [840/3240], Train Loss: 0.4141, Train Acc: 0.8103, Valid Loss: 0.4362,                    Valid Acc: 0.7992\n",
            "Epoch [3/10], Step [870/3240], Train Loss: 0.4201, Train Acc: 0.8073, Valid Loss: 0.4355,                    Valid Acc: 0.8020\n",
            "Epoch [3/10], Step [900/3240], Train Loss: 0.4195, Train Acc: 0.8115, Valid Loss: 0.4366,                    Valid Acc: 0.7985\n",
            "Epoch [3/10], Step [930/3240], Train Loss: 0.4128, Train Acc: 0.8107, Valid Loss: 0.4311,                    Valid Acc: 0.8032\n",
            "Epoch [3/10], Step [960/3240], Train Loss: 0.4130, Train Acc: 0.8134, Valid Loss: 0.4363,                    Valid Acc: 0.7992\n",
            "Epoch [4/10], Step [990/3240], Train Loss: 0.4173, Train Acc: 0.8079, Valid Loss: 0.4374,                    Valid Acc: 0.7984\n",
            "Epoch [4/10], Step [1020/3240], Train Loss: 0.4113, Train Acc: 0.8088, Valid Loss: 0.4332,                    Valid Acc: 0.8003\n",
            "Epoch [4/10], Step [1050/3240], Train Loss: 0.4097, Train Acc: 0.8115, Valid Loss: 0.4310,                    Valid Acc: 0.8017\n",
            "Epoch [4/10], Step [1080/3240], Train Loss: 0.4121, Train Acc: 0.8118, Valid Loss: 0.4335,                    Valid Acc: 0.7983\n",
            "Epoch [4/10], Step [1110/3240], Train Loss: 0.4162, Train Acc: 0.8079, Valid Loss: 0.4287,                    Valid Acc: 0.8029\n",
            "0.4286641544765896\n",
            "Model saved to ==> cnn.pt\n",
            "Epoch [4/10], Step [1140/3240], Train Loss: 0.4129, Train Acc: 0.8116, Valid Loss: 0.4276,                    Valid Acc: 0.8061\n",
            "0.4276051724713946\n",
            "Model saved to ==> cnn.pt\n",
            "Epoch [4/10], Step [1170/3240], Train Loss: 0.4129, Train Acc: 0.8149, Valid Loss: 0.4296,                    Valid Acc: 0.8031\n",
            "Epoch [4/10], Step [1200/3240], Train Loss: 0.4116, Train Acc: 0.8124, Valid Loss: 0.4302,                    Valid Acc: 0.8062\n",
            "Epoch [4/10], Step [1230/3240], Train Loss: 0.4127, Train Acc: 0.8091, Valid Loss: 0.4353,                    Valid Acc: 0.8016\n",
            "Epoch [4/10], Step [1260/3240], Train Loss: 0.4155, Train Acc: 0.8058, Valid Loss: 0.4290,                    Valid Acc: 0.8051\n",
            "Epoch [4/10], Step [1290/3240], Train Loss: 0.4131, Train Acc: 0.8091, Valid Loss: 0.4273,                    Valid Acc: 0.8056\n",
            "0.4272984360891675\n",
            "Model saved to ==> cnn.pt\n",
            "Epoch [5/10], Step [1320/3240], Train Loss: 0.4131, Train Acc: 0.8091, Valid Loss: 0.4298,                    Valid Acc: 0.8056\n",
            "Epoch [5/10], Step [1350/3240], Train Loss: 0.4001, Train Acc: 0.8149, Valid Loss: 0.4306,                    Valid Acc: 0.8020\n",
            "Epoch [5/10], Step [1380/3240], Train Loss: 0.4119, Train Acc: 0.8152, Valid Loss: 0.4329,                    Valid Acc: 0.8065\n",
            "Epoch [5/10], Step [1410/3240], Train Loss: 0.4130, Train Acc: 0.8097, Valid Loss: 0.4254,                    Valid Acc: 0.8044\n",
            "0.4253981373612843\n",
            "Model saved to ==> cnn.pt\n",
            "Epoch [5/10], Step [1440/3240], Train Loss: 0.4092, Train Acc: 0.8180, Valid Loss: 0.4301,                    Valid Acc: 0.8025\n",
            "Epoch [5/10], Step [1470/3240], Train Loss: 0.4159, Train Acc: 0.8057, Valid Loss: 0.4262,                    Valid Acc: 0.8063\n",
            "Epoch [5/10], Step [1500/3240], Train Loss: 0.4012, Train Acc: 0.8174, Valid Loss: 0.4307,                    Valid Acc: 0.8039\n",
            "Epoch [5/10], Step [1530/3240], Train Loss: 0.4051, Train Acc: 0.8100, Valid Loss: 0.4285,                    Valid Acc: 0.8056\n",
            "Epoch [5/10], Step [1560/3240], Train Loss: 0.4185, Train Acc: 0.8060, Valid Loss: 0.4275,                    Valid Acc: 0.8076\n",
            "Epoch [5/10], Step [1590/3240], Train Loss: 0.4067, Train Acc: 0.8125, Valid Loss: 0.4286,                    Valid Acc: 0.8027\n",
            "Epoch [5/10], Step [1620/3240], Train Loss: 0.4048, Train Acc: 0.8107, Valid Loss: 0.4332,                    Valid Acc: 0.8029\n",
            "Epoch [6/10], Step [1650/3240], Train Loss: 0.4016, Train Acc: 0.8165, Valid Loss: 0.4244,                    Valid Acc: 0.8083\n",
            "0.4244437548849318\n",
            "Model saved to ==> cnn.pt\n",
            "Epoch [6/10], Step [1680/3240], Train Loss: 0.3979, Train Acc: 0.8155, Valid Loss: 0.4321,                    Valid Acc: 0.8053\n",
            "Epoch [6/10], Step [1710/3240], Train Loss: 0.4002, Train Acc: 0.8150, Valid Loss: 0.4311,                    Valid Acc: 0.8005\n",
            "Epoch [6/10], Step [1740/3240], Train Loss: 0.4035, Train Acc: 0.8179, Valid Loss: 0.4279,                    Valid Acc: 0.8070\n",
            "Epoch [6/10], Step [1770/3240], Train Loss: 0.3958, Train Acc: 0.8170, Valid Loss: 0.4443,                    Valid Acc: 0.8021\n",
            "Epoch [6/10], Step [1800/3240], Train Loss: 0.4103, Train Acc: 0.8147, Valid Loss: 0.4272,                    Valid Acc: 0.8062\n",
            "Epoch [6/10], Step [1830/3240], Train Loss: 0.3956, Train Acc: 0.8150, Valid Loss: 0.4222,                    Valid Acc: 0.8079\n",
            "0.4221550424893697\n",
            "Model saved to ==> cnn.pt\n",
            "Epoch [6/10], Step [1860/3240], Train Loss: 0.4070, Train Acc: 0.8116, Valid Loss: 0.4301,                    Valid Acc: 0.8050\n",
            "Epoch [6/10], Step [1890/3240], Train Loss: 0.4118, Train Acc: 0.8110, Valid Loss: 0.4297,                    Valid Acc: 0.8019\n",
            "Epoch [6/10], Step [1920/3240], Train Loss: 0.4125, Train Acc: 0.8085, Valid Loss: 0.4244,                    Valid Acc: 0.8070\n",
            "Epoch [7/10], Step [1950/3240], Train Loss: 0.4127, Train Acc: 0.8110, Valid Loss: 0.4297,                    Valid Acc: 0.8037\n",
            "Epoch [7/10], Step [1980/3240], Train Loss: 0.3938, Train Acc: 0.8226, Valid Loss: 0.4271,                    Valid Acc: 0.8055\n",
            "Epoch [7/10], Step [2010/3240], Train Loss: 0.4043, Train Acc: 0.8128, Valid Loss: 0.4255,                    Valid Acc: 0.8061\n",
            "Epoch [7/10], Step [2040/3240], Train Loss: 0.4093, Train Acc: 0.8091, Valid Loss: 0.4592,                    Valid Acc: 0.7900\n",
            "Epoch [7/10], Step [2070/3240], Train Loss: 0.4144, Train Acc: 0.8165, Valid Loss: 0.4459,                    Valid Acc: 0.7995\n",
            "Epoch [7/10], Step [2100/3240], Train Loss: 0.4121, Train Acc: 0.8076, Valid Loss: 0.4351,                    Valid Acc: 0.8016\n",
            "Epoch [7/10], Step [2130/3240], Train Loss: 0.4044, Train Acc: 0.8147, Valid Loss: 0.4403,                    Valid Acc: 0.8027\n",
            "Epoch [7/10], Step [2160/3240], Train Loss: 0.4134, Train Acc: 0.8149, Valid Loss: 0.4301,                    Valid Acc: 0.8026\n",
            "Epoch [7/10], Step [2190/3240], Train Loss: 0.4145, Train Acc: 0.8097, Valid Loss: 0.4263,                    Valid Acc: 0.8064\n",
            "Epoch [7/10], Step [2220/3240], Train Loss: 0.4060, Train Acc: 0.8103, Valid Loss: 0.4280,                    Valid Acc: 0.8025\n",
            "Epoch [7/10], Step [2250/3240], Train Loss: 0.4082, Train Acc: 0.8158, Valid Loss: 0.4221,                    Valid Acc: 0.8068\n",
            "0.4221036954531594\n",
            "Model saved to ==> cnn.pt\n",
            "Epoch [8/10], Step [2280/3240], Train Loss: 0.4031, Train Acc: 0.8118, Valid Loss: 0.4292,                    Valid Acc: 0.8011\n",
            "Epoch [8/10], Step [2310/3240], Train Loss: 0.4007, Train Acc: 0.8155, Valid Loss: 0.4302,                    Valid Acc: 0.8026\n",
            "Epoch [8/10], Step [2340/3240], Train Loss: 0.3973, Train Acc: 0.8162, Valid Loss: 0.4316,                    Valid Acc: 0.8005\n",
            "Epoch [8/10], Step [2370/3240], Train Loss: 0.3970, Train Acc: 0.8201, Valid Loss: 0.4275,                    Valid Acc: 0.8048\n",
            "Epoch [8/10], Step [2400/3240], Train Loss: 0.3934, Train Acc: 0.8238, Valid Loss: 0.4285,                    Valid Acc: 0.8031\n",
            "Epoch [8/10], Step [2430/3240], Train Loss: 0.3934, Train Acc: 0.8174, Valid Loss: 0.4324,                    Valid Acc: 0.8031\n",
            "Epoch [8/10], Step [2460/3240], Train Loss: 0.4016, Train Acc: 0.8165, Valid Loss: 0.4278,                    Valid Acc: 0.8054\n",
            "Epoch [8/10], Step [2490/3240], Train Loss: 0.3842, Train Acc: 0.8251, Valid Loss: 0.4311,                    Valid Acc: 0.8046\n",
            "Epoch [8/10], Step [2520/3240], Train Loss: 0.3939, Train Acc: 0.8219, Valid Loss: 0.4290,                    Valid Acc: 0.8071\n",
            "Epoch [8/10], Step [2550/3240], Train Loss: 0.4102, Train Acc: 0.8092, Valid Loss: 0.4295,                    Valid Acc: 0.8048\n",
            "Epoch [8/10], Step [2580/3240], Train Loss: 0.4031, Train Acc: 0.8164, Valid Loss: 0.4301,                    Valid Acc: 0.8058\n",
            "Epoch [9/10], Step [2610/3240], Train Loss: 0.3945, Train Acc: 0.8204, Valid Loss: 0.4337,                    Valid Acc: 0.8051\n",
            "Epoch [9/10], Step [2640/3240], Train Loss: 0.3839, Train Acc: 0.8278, Valid Loss: 0.4327,                    Valid Acc: 0.8013\n",
            "Epoch [9/10], Step [2670/3240], Train Loss: 0.4044, Train Acc: 0.8101, Valid Loss: 0.4323,                    Valid Acc: 0.8034\n",
            "Epoch [9/10], Step [2700/3240], Train Loss: 0.3817, Train Acc: 0.8235, Valid Loss: 0.4307,                    Valid Acc: 0.8024\n",
            "Epoch [9/10], Step [2730/3240], Train Loss: 0.3974, Train Acc: 0.8149, Valid Loss: 0.4302,                    Valid Acc: 0.8059\n",
            "Epoch [9/10], Step [2760/3240], Train Loss: 0.3909, Train Acc: 0.8205, Valid Loss: 0.4289,                    Valid Acc: 0.8039\n",
            "Epoch [9/10], Step [2790/3240], Train Loss: 0.3858, Train Acc: 0.8295, Valid Loss: 0.4305,                    Valid Acc: 0.8007\n",
            "Epoch [9/10], Step [2820/3240], Train Loss: 0.3989, Train Acc: 0.8155, Valid Loss: 0.4296,                    Valid Acc: 0.8023\n",
            "Epoch [9/10], Step [2850/3240], Train Loss: 0.3883, Train Acc: 0.8281, Valid Loss: 0.4268,                    Valid Acc: 0.8055\n",
            "Epoch [9/10], Step [2880/3240], Train Loss: 0.3932, Train Acc: 0.8190, Valid Loss: 0.4294,                    Valid Acc: 0.8035\n",
            "Epoch [9/10], Step [2910/3240], Train Loss: 0.3884, Train Acc: 0.8265, Valid Loss: 0.4255,                    Valid Acc: 0.8058\n",
            "Epoch [10/10], Step [2940/3240], Train Loss: 0.3795, Train Acc: 0.8267, Valid Loss: 0.4312,                    Valid Acc: 0.8009\n",
            "Epoch [10/10], Step [2970/3240], Train Loss: 0.3829, Train Acc: 0.8314, Valid Loss: 0.4298,                    Valid Acc: 0.8080\n",
            "Epoch [10/10], Step [3000/3240], Train Loss: 0.3728, Train Acc: 0.8281, Valid Loss: 0.4399,                    Valid Acc: 0.7968\n",
            "Epoch [10/10], Step [3030/3240], Train Loss: 0.3844, Train Acc: 0.8287, Valid Loss: 0.4350,                    Valid Acc: 0.8031\n",
            "Epoch [10/10], Step [3060/3240], Train Loss: 0.3829, Train Acc: 0.8254, Valid Loss: 0.4393,                    Valid Acc: 0.7968\n",
            "Epoch [10/10], Step [3090/3240], Train Loss: 0.3846, Train Acc: 0.8257, Valid Loss: 0.4391,                    Valid Acc: 0.8038\n",
            "Epoch [10/10], Step [3120/3240], Train Loss: 0.3981, Train Acc: 0.8182, Valid Loss: 0.4378,                    Valid Acc: 0.8018\n",
            "Epoch [10/10], Step [3150/3240], Train Loss: 0.3856, Train Acc: 0.8237, Valid Loss: 0.4301,                    Valid Acc: 0.8041\n",
            "Epoch [10/10], Step [3180/3240], Train Loss: 0.3924, Train Acc: 0.8262, Valid Loss: 0.4342,                    Valid Acc: 0.8034\n",
            "Epoch [10/10], Step [3210/3240], Train Loss: 0.3916, Train Acc: 0.8216, Valid Loss: 0.4356,                    Valid Acc: 0.7966\n",
            "Epoch [10/10], Step [3240/3240], Train Loss: 0.3893, Train Acc: 0.8225, Valid Loss: 0.4274,                    Valid Acc: 0.8067\n",
            "Finished Training\n"
          ],
          "name": "stdout"
        }
      ]
    },
    {
      "cell_type": "code",
      "metadata": {
        "id": "PTdJ-49lVv4i",
        "colab_type": "code",
        "outputId": "91f57a24-4f41-4b69-cd6b-250b9223d11b",
        "colab": {
          "base_uri": "https://localhost:8080/",
          "height": 295
        }
      },
      "source": [
        "plt.plot(train_loss)\n",
        "plt.xlabel(\"every 30 steps\")\n",
        "plt.ylabel(\"loss\")\n",
        "plt.title(\"Training loss\")\n",
        "plt.show()"
      ],
      "execution_count": 0,
      "outputs": [
        {
          "output_type": "display_data",
          "data": {
            "image/png": "[encoded data removed]",
            "text/plain": [
              "<Figure size 432x288 with 1 Axes>"
            ]
          },
          "metadata": {
            "tags": [],
            "needs_background": "light"
          }
        }
      ]
    },
    {
      "cell_type": "code",
      "metadata": {
        "id": "BalVq4q9VzF6",
        "colab_type": "code",
        "outputId": "bd153281-7d9e-40fd-b1cf-9231370d2369",
        "colab": {
          "base_uri": "https://localhost:8080/",
          "height": 295
        }
      },
      "source": [
        "plt.plot(valid_loss)\n",
        "plt.xlabel(\"every 30 steps\")\n",
        "plt.ylabel(\"loss\")\n",
        "plt.title(\"Validation loss\")\n",
        "plt.show()"
      ],
      "execution_count": 0,
      "outputs": [
        {
          "output_type": "display_data",
          "data": {
            "image/png": "[encoded data removed]",
            "text/plain": [
              "<Figure size 432x288 with 1 Axes>"
            ]
          },
          "metadata": {
            "tags": [],
            "needs_background": "light"
          }
        }
      ]
    },
    {
      "cell_type": "markdown",
      "metadata": {
        "id": "LsrPXzXSe1VJ",
        "colab_type": "text"
      },
      "source": [
        "# Classification Report"
      ]
    },
    {
      "cell_type": "code",
      "metadata": {
        "id": "J2PWv5lfqdH1",
        "colab_type": "code",
        "colab": {}
      },
      "source": [
        "from sklearn.metrics import classification_report"
      ],
      "execution_count": 0,
      "outputs": []
    },
    {
      "cell_type": "code",
      "metadata": {
        "id": "aYZMJYuDqjtg",
        "colab_type": "code",
        "outputId": "cca36f80-7275-452e-f262-04efb8d7a4dd",
        "colab": {
          "base_uri": "https://localhost:8080/",
          "height": 1000
        }
      },
      "source": [
        "thetas = [0.3, 0.5, 0.7]\n",
        "\n",
        "last_epoch = load_checkpoint(f'cnn.pt', model, optimizer)\n",
        "model.eval()\n",
        "\n",
        "for theta in thetas:\n",
        "\n",
        "  y_test = []\n",
        "  y_pred = []\n",
        "  \n",
        "  for test_inputs, test_labels in test_loader:\n",
        "    with torch.no_grad():\n",
        "      model.eval()\n",
        "      test_inputs = test_inputs.to(device)\n",
        "\n",
        "      #print(test_inputs.shape)\n",
        "      test_prob = model(test_inputs)\n",
        "      test_pred = (predict_label(test_prob, theta))\n",
        "      # print(test_labels, test_prob, test_pred)\n",
        "\n",
        "      y_test.append(np.array(test_labels).reshape(-1))\n",
        "      y_pred.append(np.array(test_pred.cpu()).reshape(-1))\n",
        "\n",
        "  print(\"\\n theta = \" + str(theta) + \"\\n\")\n",
        "  print(classification_report(np.array(y_test), np.array(y_pred)))"
      ],
      "execution_count": 0,
      "outputs": [
        {
          "output_type": "stream",
          "text": [
            "Model loaded from <== cnn.pt\n",
            "\n",
            " theta = 0.3\n",
            "\n",
            "              precision    recall  f1-score   support\n",
            "\n",
            "           0       0.40      0.55      0.46       413\n",
            "           1       0.35      0.22      0.27       254\n",
            "           2       0.53      0.32      0.40       148\n",
            "           3       0.58      0.77      0.66       774\n",
            "           4       0.60      0.97      0.74      1151\n",
            "           5       0.38      0.36      0.37       259\n",
            "           6       0.44      0.47      0.46       418\n",
            "\n",
            "   micro avg       0.53      0.68      0.60      3417\n",
            "   macro avg       0.47      0.52      0.48      3417\n",
            "weighted avg       0.51      0.68      0.58      3417\n",
            " samples avg       0.55      0.70      0.59      3417\n",
            "\n",
            "\n",
            " theta = 0.5\n",
            "\n",
            "              precision    recall  f1-score   support\n",
            "\n",
            "           0       0.60      0.21      0.31       413\n",
            "           1       0.69      0.04      0.07       254\n",
            "           2       0.69      0.23      0.35       148\n",
            "           3       0.71      0.49      0.58       774\n",
            "           4       0.65      0.78      0.71      1151\n",
            "           5       0.51      0.10      0.17       259\n",
            "           6       0.62      0.09      0.15       418\n",
            "\n",
            "   micro avg       0.66      0.43      0.52      3417\n",
            "   macro avg       0.64      0.28      0.33      3417\n",
            "weighted avg       0.65      0.43      0.46      3417\n",
            " samples avg       0.59      0.46      0.49      3417\n",
            "\n"
          ],
          "name": "stdout"
        },
        {
          "output_type": "stream",
          "text": [
            "/usr/local/lib/python3.6/dist-packages/sklearn/metrics/_classification.py:1272: UndefinedMetricWarning: Precision and F-score are ill-defined and being set to 0.0 in samples with no predicted labels. Use `zero_division` parameter to control this behavior.\n",
            "  _warn_prf(average, modifier, msg_start, len(result))\n"
          ],
          "name": "stderr"
        },
        {
          "output_type": "stream",
          "text": [
            "\n",
            " theta = 0.7\n",
            "\n",
            "              precision    recall  f1-score   support\n",
            "\n",
            "           0       1.00      0.00      0.01       413\n",
            "           1       0.00      0.00      0.00       254\n",
            "           2       0.82      0.09      0.17       148\n",
            "           3       0.77      0.23      0.36       774\n",
            "           4       0.74      0.41      0.52      1151\n",
            "           5       0.80      0.02      0.03       259\n",
            "           6       0.33      0.00      0.00       418\n",
            "\n",
            "   micro avg       0.75      0.20      0.31      3417\n",
            "   macro avg       0.64      0.11      0.16      3417\n",
            "weighted avg       0.68      0.20      0.27      3417\n",
            " samples avg       0.33      0.22      0.25      3417\n",
            "\n"
          ],
          "name": "stdout"
        }
      ]
    },
    {
      "cell_type": "markdown",
      "metadata": {
        "id": "oEJCzxnnLyR4",
        "colab_type": "text"
      },
      "source": [
        ""
      ]
    },
    {
      "cell_type": "markdown",
      "metadata": {
        "id": "lz_fnk6eI5iq",
        "colab_type": "text"
      },
      "source": [
        "# Submission"
      ]
    },
    {
      "cell_type": "code",
      "metadata": {
        "id": "ww9IQl3sTa6T",
        "colab_type": "code",
        "outputId": "3fadde7b-56a4-41b9-f702-b7f8c80e5cee",
        "colab": {
          "base_uri": "https://localhost:8080/",
          "height": 419
        }
      },
      "source": [
        "sub_df = pd.read_csv('./drive/My Drive/pa2_data/part1_data/submission.csv')\n",
        "\n",
        "for i in range(len(sub_df)):\n",
        "  movie = sub_df.loc[i, 'imdbId']\n",
        "  filename = str(movie) + '.jpg'\n",
        "  image = Image.open(os.path.join('images' ,filename), 'r').convert('RGB')\n",
        "  X = transform(image)\n",
        "\n",
        "  image.close()\n",
        "\n",
        "  sub_inputs = X[None, :, :, :]\n",
        "  with torch.no_grad():\n",
        "    model.eval()\n",
        "    sub_inputs = sub_inputs.to(device)\n",
        "    sub_prob = model(sub_inputs)\n",
        "    sub_pred = (predict_label(sub_prob, 0.3))\n",
        "\n",
        "    sub_df.loc[i, 1:] = np.array(sub_pred.cpu()).reshape(-1)\n",
        "\n",
        "sub_df"
      ],
      "execution_count": 0,
      "outputs": [
        {
          "output_type": "execute_result",
          "data": {
            "text/html": [
              "<div>\n",
              "<style scoped>\n",
              "    .dataframe tbody tr th:only-of-type {\n",
              "        vertical-align: middle;\n",
              "    }\n",
              "\n",
              "    .dataframe tbody tr th {\n",
              "        vertical-align: top;\n",
              "    }\n",
              "\n",
              "    .dataframe thead th {\n",
              "        text-align: right;\n",
              "    }\n",
              "</style>\n",
              "<table border=\"1\" class=\"dataframe\">\n",
              "  <thead>\n",
              "    <tr style=\"text-align: right;\">\n",
              "      <th></th>\n",
              "      <th>imdbId</th>\n",
              "      <th>Action</th>\n",
              "      <th>Adventure</th>\n",
              "      <th>Animation</th>\n",
              "      <th>Comedy</th>\n",
              "      <th>Drama</th>\n",
              "      <th>Horror</th>\n",
              "      <th>Romance</th>\n",
              "    </tr>\n",
              "  </thead>\n",
              "  <tbody>\n",
              "    <tr>\n",
              "      <th>0</th>\n",
              "      <td>2960930</td>\n",
              "      <td>0.0</td>\n",
              "      <td>0.0</td>\n",
              "      <td>0.0</td>\n",
              "      <td>0.0</td>\n",
              "      <td>1.0</td>\n",
              "      <td>1.0</td>\n",
              "      <td>0.0</td>\n",
              "    </tr>\n",
              "    <tr>\n",
              "      <th>1</th>\n",
              "      <td>1295071</td>\n",
              "      <td>0.0</td>\n",
              "      <td>0.0</td>\n",
              "      <td>0.0</td>\n",
              "      <td>0.0</td>\n",
              "      <td>1.0</td>\n",
              "      <td>1.0</td>\n",
              "      <td>0.0</td>\n",
              "    </tr>\n",
              "    <tr>\n",
              "      <th>2</th>\n",
              "      <td>239441</td>\n",
              "      <td>0.0</td>\n",
              "      <td>0.0</td>\n",
              "      <td>0.0</td>\n",
              "      <td>1.0</td>\n",
              "      <td>1.0</td>\n",
              "      <td>0.0</td>\n",
              "      <td>0.0</td>\n",
              "    </tr>\n",
              "    <tr>\n",
              "      <th>3</th>\n",
              "      <td>305396</td>\n",
              "      <td>0.0</td>\n",
              "      <td>0.0</td>\n",
              "      <td>0.0</td>\n",
              "      <td>1.0</td>\n",
              "      <td>1.0</td>\n",
              "      <td>0.0</td>\n",
              "      <td>0.0</td>\n",
              "    </tr>\n",
              "    <tr>\n",
              "      <th>4</th>\n",
              "      <td>1413489</td>\n",
              "      <td>0.0</td>\n",
              "      <td>0.0</td>\n",
              "      <td>0.0</td>\n",
              "      <td>1.0</td>\n",
              "      <td>1.0</td>\n",
              "      <td>0.0</td>\n",
              "      <td>0.0</td>\n",
              "    </tr>\n",
              "    <tr>\n",
              "      <th>...</th>\n",
              "      <td>...</td>\n",
              "      <td>...</td>\n",
              "      <td>...</td>\n",
              "      <td>...</td>\n",
              "      <td>...</td>\n",
              "      <td>...</td>\n",
              "      <td>...</td>\n",
              "      <td>...</td>\n",
              "    </tr>\n",
              "    <tr>\n",
              "      <th>586</th>\n",
              "      <td>3704050</td>\n",
              "      <td>0.0</td>\n",
              "      <td>0.0</td>\n",
              "      <td>0.0</td>\n",
              "      <td>0.0</td>\n",
              "      <td>1.0</td>\n",
              "      <td>0.0</td>\n",
              "      <td>0.0</td>\n",
              "    </tr>\n",
              "    <tr>\n",
              "      <th>587</th>\n",
              "      <td>477253</td>\n",
              "      <td>0.0</td>\n",
              "      <td>0.0</td>\n",
              "      <td>0.0</td>\n",
              "      <td>1.0</td>\n",
              "      <td>1.0</td>\n",
              "      <td>0.0</td>\n",
              "      <td>1.0</td>\n",
              "    </tr>\n",
              "    <tr>\n",
              "      <th>588</th>\n",
              "      <td>371606</td>\n",
              "      <td>0.0</td>\n",
              "      <td>1.0</td>\n",
              "      <td>1.0</td>\n",
              "      <td>1.0</td>\n",
              "      <td>0.0</td>\n",
              "      <td>0.0</td>\n",
              "      <td>0.0</td>\n",
              "    </tr>\n",
              "    <tr>\n",
              "      <th>589</th>\n",
              "      <td>392364</td>\n",
              "      <td>0.0</td>\n",
              "      <td>0.0</td>\n",
              "      <td>0.0</td>\n",
              "      <td>0.0</td>\n",
              "      <td>1.0</td>\n",
              "      <td>0.0</td>\n",
              "      <td>0.0</td>\n",
              "    </tr>\n",
              "    <tr>\n",
              "      <th>590</th>\n",
              "      <td>1794725</td>\n",
              "      <td>0.0</td>\n",
              "      <td>1.0</td>\n",
              "      <td>1.0</td>\n",
              "      <td>1.0</td>\n",
              "      <td>1.0</td>\n",
              "      <td>0.0</td>\n",
              "      <td>0.0</td>\n",
              "    </tr>\n",
              "  </tbody>\n",
              "</table>\n",
              "<p>591 rows × 8 columns</p>\n",
              "</div>"
            ],
            "text/plain": [
              "      imdbId  Action  Adventure  Animation  Comedy  Drama  Horror  Romance\n",
              "0    2960930     0.0        0.0        0.0     0.0    1.0     1.0      0.0\n",
              "1    1295071     0.0        0.0        0.0     0.0    1.0     1.0      0.0\n",
              "2     239441     0.0        0.0        0.0     1.0    1.0     0.0      0.0\n",
              "3     305396     0.0        0.0        0.0     1.0    1.0     0.0      0.0\n",
              "4    1413489     0.0        0.0        0.0     1.0    1.0     0.0      0.0\n",
              "..       ...     ...        ...        ...     ...    ...     ...      ...\n",
              "586  3704050     0.0        0.0        0.0     0.0    1.0     0.0      0.0\n",
              "587   477253     0.0        0.0        0.0     1.0    1.0     0.0      1.0\n",
              "588   371606     0.0        1.0        1.0     1.0    0.0     0.0      0.0\n",
              "589   392364     0.0        0.0        0.0     0.0    1.0     0.0      0.0\n",
              "590  1794725     0.0        1.0        1.0     1.0    1.0     0.0      0.0\n",
              "\n",
              "[591 rows x 8 columns]"
            ]
          },
          "metadata": {
            "tags": []
          },
          "execution_count": 119
        }
      ]
    },
    {
      "cell_type": "code",
      "metadata": {
        "id": "K7IK-eaiXWBU",
        "colab_type": "code",
        "colab": {}
      },
      "source": [
        "sub_df.to_csv(\"submission.csv\")"
      ],
      "execution_count": 0,
      "outputs": []
    },
    {
      "cell_type": "code",
      "metadata": {
        "id": "tkzpZ_NIZ-Xw",
        "colab_type": "code",
        "colab": {}
      },
      "source": [
        ""
      ],
      "execution_count": 0,
      "outputs": []
    }
  ]
}